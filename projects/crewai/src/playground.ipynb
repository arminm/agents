{
 "cells": [
  {
   "cell_type": "markdown",
   "metadata": {},
   "source": [
    "# Setup CrewAI Environment\n",
    "Import required libraries (crewai, langchain_groq, dotenv) and set up environment variables for API keys."
   ]
  },
  {
   "cell_type": "code",
   "execution_count": 1,
   "metadata": {},
   "outputs": [],
   "source": [
    "# Import required libraries\n",
    "import os\n",
    "from dotenv import load_dotenv\n",
    "from crewai import Agent, Crew, Task\n",
    "from langchain_groq import ChatGroq\n",
    "\n",
    "# Load environment variables from .env file\n",
    "load_dotenv(\n",
    "    override=True,\n",
    ")\n",
    "\n",
    "# Set up API key for Groq LLM\n",
    "api_key = os.getenv(\"GROQ_API_KEY\")"
   ]
  },
  {
   "cell_type": "code",
   "execution_count": 2,
   "metadata": {},
   "outputs": [],
   "source": [
    "\n",
    "# Initialize Groq LLM\n",
    "llm = ChatGroq(\n",
    "    model_name=\"groq/gemma2-9b-it\",\n",
    "    temperature=0.7,\n",
    "    api_key=api_key,\n",
    "    max_retries=2,\n",
    "    timeout=10,\n",
    ")\n",
    "\n",
    "# Verify that the API key is loaded\n",
    "assert api_key is not None, \"API key for Groq LLM is not set. Please check your .env file.\""
   ]
  },
  {
   "cell_type": "markdown",
   "metadata": {},
   "source": [
    "# Initialize Basic Agents\n",
    "Create different types of agents with various roles, goals, and backstories using CrewAI's Agent class."
   ]
  },
  {
   "cell_type": "code",
   "execution_count": 8,
   "metadata": {},
   "outputs": [
    {
     "data": {
      "text/plain": [
       "(Agent(role=Researcher, goal=Research topics thoroughly and gather accurate information., backstory=Expert researcher with experience in gathering and analyzing information from multiple sources.),\n",
       " Agent(role=Writer, goal=Write clear and engaging content based on research., backstory=Skilled writer with a knack for turning complex information into readable content.),\n",
       " Agent(role=Publisher, goal=Publish content to the appropriate platforms and ensure it reaches the target audience., backstory=Experienced publisher with a background in digital marketing and content distribution.))"
      ]
     },
     "execution_count": 8,
     "metadata": {},
     "output_type": "execute_result"
    }
   ],
   "source": [
    "# Initialize Basic Agents\n",
    "\n",
    "# Create a Researcher agent\n",
    "researcher = Agent(\n",
    "    role=\"Researcher\",\n",
    "    goal=\"Research topics thoroughly and gather accurate information.\",\n",
    "    backstory=\"Expert researcher with experience in gathering and analyzing information from multiple sources.\",\n",
    "    llm=llm,\n",
    ")\n",
    "\n",
    "# Create a Writer agent\n",
    "writer = Agent(\n",
    "    role=\"Writer\",\n",
    "    goal=\"Write clear and engaging content based on research.\",\n",
    "    backstory=\"Skilled writer with a knack for turning complex information into readable content.\",\n",
    "    llm=llm,\n",
    ")\n",
    "\n",
    "# Create a Publisher agent\n",
    "publisher = Agent(\n",
    "    role=\"Publisher\",\n",
    "    goal=\"Publish content to the appropriate platforms and ensure it reaches the target audience.\",\n",
    "    backstory=\"Experienced publisher with a background in digital marketing and content distribution.\",\n",
    "    llm=llm,\n",
    ")\n",
    "\n",
    "# Display the created agents\n",
    "researcher, writer, publisher"
   ]
  },
  {
   "cell_type": "markdown",
   "metadata": {},
   "source": [
    "# Create Custom Tasks\n",
    "Define different tasks using CrewAI's Task class with various configurations and test their individual execution."
   ]
  },
  {
   "cell_type": "code",
   "execution_count": 9,
   "metadata": {},
   "outputs": [],
   "source": [
    "# Create Custom Tasks\n",
    "\n",
    "# Define a research task\n",
    "research_task = Task(\n",
    "    name=\"Research Task\",\n",
    "    description=\"Research the topic: {topic}. Gather comprehensive information from reliable sources.\",\n",
    "    expected_output=\"A list of key points and references related to the topic. Include a summary of the main findings.\",\n",
    "    agent=researcher\n",
    ")\n",
    "\n",
    "# Define a writing task\n",
    "writing_task = Task(\n",
    "    name=\"Writing Task\",\n",
    "    description=\"Write an article based on the research.\",\n",
    "    expected_output=\"A draft article in markdown format.\",\n",
    "    output_file=\"output/drafts/ai_article.md\",\n",
    "    agent=writer\n",
    ")\n",
    "\n"
   ]
  },
  {
   "cell_type": "markdown",
   "metadata": {},
   "source": [
    "# Build and Test Crews\n",
    "Create crews with different combinations of agents and tasks, test their interactions and output generation."
   ]
  },
  {
   "cell_type": "code",
   "execution_count": 10,
   "metadata": {},
   "outputs": [
    {
     "name": "stderr",
     "output_type": "stream",
     "text": [
      "Overriding of current TracerProvider is not allowed\n"
     ]
    },
    {
     "name": "stdout",
     "output_type": "stream",
     "text": [
      "\u001b[1m\u001b[95m# Agent:\u001b[00m \u001b[1m\u001b[92mResearcher\u001b[00m\n",
      "\u001b[95m## Task:\u001b[00m \u001b[92mResearch the topic: Artificial Intelligence. Gather comprehensive information from reliable sources.\u001b[00m\n",
      "\n",
      "\n",
      "\u001b[1m\u001b[95m# Agent:\u001b[00m \u001b[1m\u001b[92mResearcher\u001b[00m\n",
      "\u001b[95m## Final Answer:\u001b[00m \u001b[92m\n",
      "## Artificial Intelligence: Key Points and References\n",
      "\n",
      "**Definition:**\n",
      "\n",
      "* Artificial intelligence (AI) is the ability of a computer or machine to mimic human intelligence processes such as learning, reasoning, problem-solving, perception, and language understanding. \n",
      "\n",
      "**Types of AI:**\n",
      "\n",
      "* **Narrow or Weak AI:**  Designed to perform a specific task, like playing chess or recommending products. (e.g., Siri, Alexa, spam filters)\n",
      "* **General or Strong AI:** Hypothetical AI with human-level intelligence across a wide range of tasks.\n",
      "* **Super AI:**  Hypothetical AI surpassing human intelligence in all aspects.\n",
      "\n",
      "**Key Technologies:**\n",
      "\n",
      "* **Machine Learning (ML):**  Algorithms that allow computers to learn from data without explicit programming.\n",
      "    * **Supervised Learning:**  Training AI on labeled data to predict outcomes.\n",
      "    * **Unsupervised Learning:**  Discovering patterns in unlabeled data.\n",
      "    * **Reinforcement Learning:**  Training AI through trial and error, rewarding desired behaviors.\n",
      "* **Deep Learning (DL):**  A subset of ML using artificial neural networks with multiple layers to analyze complex data.\n",
      "* **Natural Language Processing (NLP):**  Enabling computers to understand, interpret, and generate human language.\n",
      "* **Computer Vision:**  Enabling computers to \"see\" and interpret images and videos.\n",
      "\n",
      "**Applications:**\n",
      "\n",
      "* **Healthcare:**  Diagnosis, drug discovery, personalized medicine.\n",
      "* **Finance:**  Fraud detection, risk assessment, algorithmic trading.\n",
      "* **Transportation:**  Self-driving cars, traffic optimization.\n",
      "* **Manufacturing:**  Predictive maintenance, quality control.\n",
      "* **Customer Service:**  Chatbots, virtual assistants.\n",
      "\n",
      "**Ethical Considerations:**\n",
      "\n",
      "* **Bias and Fairness:**  AI systems can perpetuate existing societal biases if trained on biased data.\n",
      "* **Job Displacement:**  AI automation may lead to job losses in certain sectors.\n",
      "* **Privacy and Security:**  AI's ability to process vast amounts of data raises concerns about privacy violations and security breaches.\n",
      "* **Accountability and Transparency:**  It's crucial to ensure that AI systems are transparent and accountable for their decisions.\n",
      "\n",
      "**References:**\n",
      "\n",
      "* **Stanford Encyclopedia of Philosophy:** https://plato.stanford.edu/entries/artificial-intelligence/\n",
      "* **OpenAI:** https://openai.com/\n",
      "* **MIT Technology Review:** https://www.technologyreview.com/topic/artificial-intelligence/\n",
      "* **The Future of Life Institute:** https://futureoflife.org/\u001b[00m\n",
      "\n",
      "\n",
      "\u001b[1m\u001b[95m# Agent:\u001b[00m \u001b[1m\u001b[92mWriter\u001b[00m\n",
      "\u001b[95m## Task:\u001b[00m \u001b[92mWrite an article based on the research.\u001b[00m\n",
      "\n",
      "\n",
      "\u001b[1m\u001b[95m# Agent:\u001b[00m \u001b[1m\u001b[92mWriter\u001b[00m\n",
      "\u001b[95m## Final Answer:\u001b[00m \u001b[92m\n",
      "#  Artificial Intelligence: Shaping Our Future\n",
      "\n",
      "Artificial intelligence (AI) is rapidly transforming our world, automating tasks, driving innovation, and raising profound ethical questions.  From self-driving cars to personalized medicine, AI's potential applications are vast and exciting.  But understanding the different types of AI, its underlying technologies, and the ethical challenges it presents is crucial for navigating this transformative era.\n",
      "\n",
      "**What is Artificial Intelligence?**\n",
      "\n",
      "At its core, AI refers to the ability of computers or machines to perform tasks that typically require human intelligence. This includes learning from data, recognizing patterns, making decisions, solving problems, understanding and generating language, and even perceiving and interpreting visual information.\n",
      "\n",
      "**Types of AI: Narrow, General, and Super**\n",
      "\n",
      "AI systems are broadly categorized into three types:\n",
      "\n",
      "* **Narrow or Weak AI:** This type of AI is designed to excel at a specific task, such as playing chess, recognizing faces, or recommending products.  Examples include virtual assistants like Siri and Alexa, spam filters, and fraud detection systems.\n",
      "* **General or Strong AI:**  This hypothetical type of AI would possess human-level intelligence and the ability to learn and perform any intellectual task that a human can.  General AI remains a distant goal, and its development raises significant philosophical and ethical questions.\n",
      "* **Super AI:**  This highly speculative concept refers to AI that surpasses human intelligence in all aspects.  Super AI's potential benefits and risks are widely debated, with some experts warning of potential existential threats.\n",
      "\n",
      "**Key Technologies Driving AI**\n",
      "\n",
      "Several key technologies are powering the advancements in AI:\n",
      "\n",
      "* **Machine Learning (ML):**  ML enables computers to learn from data without explicit programming.  There are three main types of ML: supervised learning (training on labeled data), unsupervised learning (finding patterns in unlabeled data), and reinforcement learning (learning through trial and error).\n",
      "\n",
      "* **Deep Learning (DL):** A subset of ML that uses artificial neural networks with multiple layers to analyze vast amounts of data. DL has achieved remarkable success in areas like image recognition, natural language processing, and speech synthesis.\n",
      "\n",
      "* **Natural Language Processing (NLP):**  NLP focuses on enabling computers to understand, interpret, and generate human language.  NLP powers chatbots, virtual assistants, machine translation, and text summarization tools.\n",
      "\n",
      "* **Computer Vision:**  This field enables computers to \"see\" and interpret images and videos.  Computer vision applications include object detection, facial recognition, medical imaging analysis, and autonomous driving.\n",
      "\n",
      "**Transforming Industries: Applications of AI**\n",
      "\n",
      "AI is already transforming numerous industries:\n",
      "\n",
      "* **Healthcare:** AI is being used for disease diagnosis, drug discovery, personalized medicine, and medical imaging analysis.\n",
      "\n",
      "* **Finance:**  AI powers fraud detection systems, risk assessment models, algorithmic trading, and customer service chatbots.\n",
      "\n",
      "* **Transportation:** Self-driving cars, traffic optimization systems, and predictive maintenance for vehicles are all leveraging AI.\n",
      "\n",
      "* **Manufacturing:**  AI is used for predictive maintenance, quality control, and optimizing production processes.\n",
      "\n",
      "* **Retail:** AI powers personalized product recommendations, inventory management, and chatbot customer service.\n",
      "\n",
      "**Ethical Considerations: Navigating the Challenges**\n",
      "\n",
      "While AI offers tremendous potential, it also raises ethical concerns:\n",
      "\n",
      "* **Bias and Fairness:** AI systems can perpetuate and amplify existing societal biases if trained on biased data.\n",
      "\n",
      "* **Job Displacement:**  AI-powered automation may lead to job losses in certain sectors, requiring reskilling and workforce adaptation.\n",
      "\n",
      "* **Privacy and Security:**  AI's ability to process vast amounts of data raises concerns about privacy violations and potential misuse of personal information.\n",
      "\n",
      "* **Accountability and Transparency:**  It's crucial to ensure that AI systems are transparent and accountable for their decisions, particularly in high-stakes situations.\n",
      "\n",
      "**The Future of AI: Shaping Our World**\n",
      "\n",
      "AI is poised to continue its rapid evolution, shaping every aspect of our lives.  Addressing the ethical challenges, fostering responsible development, and ensuring equitable access to AI's benefits will be crucial for harnessing its transformative potential for the betterment of humanity.\u001b[00m\n",
      "\n",
      "\n"
     ]
    },
    {
     "data": {
      "text/plain": [
       "CrewOutput(raw='#  Artificial Intelligence: Shaping Our Future\\n\\nArtificial intelligence (AI) is rapidly transforming our world, automating tasks, driving innovation, and raising profound ethical questions.  From self-driving cars to personalized medicine, AI\\'s potential applications are vast and exciting.  But understanding the different types of AI, its underlying technologies, and the ethical challenges it presents is crucial for navigating this transformative era.\\n\\n**What is Artificial Intelligence?**\\n\\nAt its core, AI refers to the ability of computers or machines to perform tasks that typically require human intelligence. This includes learning from data, recognizing patterns, making decisions, solving problems, understanding and generating language, and even perceiving and interpreting visual information.\\n\\n**Types of AI: Narrow, General, and Super**\\n\\nAI systems are broadly categorized into three types:\\n\\n* **Narrow or Weak AI:** This type of AI is designed to excel at a specific task, such as playing chess, recognizing faces, or recommending products.  Examples include virtual assistants like Siri and Alexa, spam filters, and fraud detection systems.\\n* **General or Strong AI:**  This hypothetical type of AI would possess human-level intelligence and the ability to learn and perform any intellectual task that a human can.  General AI remains a distant goal, and its development raises significant philosophical and ethical questions.\\n* **Super AI:**  This highly speculative concept refers to AI that surpasses human intelligence in all aspects.  Super AI\\'s potential benefits and risks are widely debated, with some experts warning of potential existential threats.\\n\\n**Key Technologies Driving AI**\\n\\nSeveral key technologies are powering the advancements in AI:\\n\\n* **Machine Learning (ML):**  ML enables computers to learn from data without explicit programming.  There are three main types of ML: supervised learning (training on labeled data), unsupervised learning (finding patterns in unlabeled data), and reinforcement learning (learning through trial and error).\\n\\n* **Deep Learning (DL):** A subset of ML that uses artificial neural networks with multiple layers to analyze vast amounts of data. DL has achieved remarkable success in areas like image recognition, natural language processing, and speech synthesis.\\n\\n* **Natural Language Processing (NLP):**  NLP focuses on enabling computers to understand, interpret, and generate human language.  NLP powers chatbots, virtual assistants, machine translation, and text summarization tools.\\n\\n* **Computer Vision:**  This field enables computers to \"see\" and interpret images and videos.  Computer vision applications include object detection, facial recognition, medical imaging analysis, and autonomous driving.\\n\\n**Transforming Industries: Applications of AI**\\n\\nAI is already transforming numerous industries:\\n\\n* **Healthcare:** AI is being used for disease diagnosis, drug discovery, personalized medicine, and medical imaging analysis.\\n\\n* **Finance:**  AI powers fraud detection systems, risk assessment models, algorithmic trading, and customer service chatbots.\\n\\n* **Transportation:** Self-driving cars, traffic optimization systems, and predictive maintenance for vehicles are all leveraging AI.\\n\\n* **Manufacturing:**  AI is used for predictive maintenance, quality control, and optimizing production processes.\\n\\n* **Retail:** AI powers personalized product recommendations, inventory management, and chatbot customer service.\\n\\n**Ethical Considerations: Navigating the Challenges**\\n\\nWhile AI offers tremendous potential, it also raises ethical concerns:\\n\\n* **Bias and Fairness:** AI systems can perpetuate and amplify existing societal biases if trained on biased data.\\n\\n* **Job Displacement:**  AI-powered automation may lead to job losses in certain sectors, requiring reskilling and workforce adaptation.\\n\\n* **Privacy and Security:**  AI\\'s ability to process vast amounts of data raises concerns about privacy violations and potential misuse of personal information.\\n\\n* **Accountability and Transparency:**  It\\'s crucial to ensure that AI systems are transparent and accountable for their decisions, particularly in high-stakes situations.\\n\\n**The Future of AI: Shaping Our World**\\n\\nAI is poised to continue its rapid evolution, shaping every aspect of our lives.  Addressing the ethical challenges, fostering responsible development, and ensuring equitable access to AI\\'s benefits will be crucial for harnessing its transformative potential for the betterment of humanity.', pydantic=None, json_dict=None, tasks_output=[TaskOutput(description='Research the topic: Artificial Intelligence. Gather comprehensive information from reliable sources.', name='Research Task', expected_output='A list of key points and references related to the topic. Include a summary of the main findings.', summary='Research the topic: Artificial Intelligence. Gather comprehensive information from reliable...', raw='## Artificial Intelligence: Key Points and References\\n\\n**Definition:**\\n\\n* Artificial intelligence (AI) is the ability of a computer or machine to mimic human intelligence processes such as learning, reasoning, problem-solving, perception, and language understanding. \\n\\n**Types of AI:**\\n\\n* **Narrow or Weak AI:**  Designed to perform a specific task, like playing chess or recommending products. (e.g., Siri, Alexa, spam filters)\\n* **General or Strong AI:** Hypothetical AI with human-level intelligence across a wide range of tasks.\\n* **Super AI:**  Hypothetical AI surpassing human intelligence in all aspects.\\n\\n**Key Technologies:**\\n\\n* **Machine Learning (ML):**  Algorithms that allow computers to learn from data without explicit programming.\\n    * **Supervised Learning:**  Training AI on labeled data to predict outcomes.\\n    * **Unsupervised Learning:**  Discovering patterns in unlabeled data.\\n    * **Reinforcement Learning:**  Training AI through trial and error, rewarding desired behaviors.\\n* **Deep Learning (DL):**  A subset of ML using artificial neural networks with multiple layers to analyze complex data.\\n* **Natural Language Processing (NLP):**  Enabling computers to understand, interpret, and generate human language.\\n* **Computer Vision:**  Enabling computers to \"see\" and interpret images and videos.\\n\\n**Applications:**\\n\\n* **Healthcare:**  Diagnosis, drug discovery, personalized medicine.\\n* **Finance:**  Fraud detection, risk assessment, algorithmic trading.\\n* **Transportation:**  Self-driving cars, traffic optimization.\\n* **Manufacturing:**  Predictive maintenance, quality control.\\n* **Customer Service:**  Chatbots, virtual assistants.\\n\\n**Ethical Considerations:**\\n\\n* **Bias and Fairness:**  AI systems can perpetuate existing societal biases if trained on biased data.\\n* **Job Displacement:**  AI automation may lead to job losses in certain sectors.\\n* **Privacy and Security:**  AI\\'s ability to process vast amounts of data raises concerns about privacy violations and security breaches.\\n* **Accountability and Transparency:**  It\\'s crucial to ensure that AI systems are transparent and accountable for their decisions.\\n\\n**References:**\\n\\n* **Stanford Encyclopedia of Philosophy:** https://plato.stanford.edu/entries/artificial-intelligence/\\n* **OpenAI:** https://openai.com/\\n* **MIT Technology Review:** https://www.technologyreview.com/topic/artificial-intelligence/\\n* **The Future of Life Institute:** https://futureoflife.org/', pydantic=None, json_dict=None, agent='Researcher', output_format=<OutputFormat.RAW: 'raw'>), TaskOutput(description='Write an article based on the research.', name='Writing Task', expected_output='A draft article in markdown format.', summary='Write an article based on the research....', raw='#  Artificial Intelligence: Shaping Our Future\\n\\nArtificial intelligence (AI) is rapidly transforming our world, automating tasks, driving innovation, and raising profound ethical questions.  From self-driving cars to personalized medicine, AI\\'s potential applications are vast and exciting.  But understanding the different types of AI, its underlying technologies, and the ethical challenges it presents is crucial for navigating this transformative era.\\n\\n**What is Artificial Intelligence?**\\n\\nAt its core, AI refers to the ability of computers or machines to perform tasks that typically require human intelligence. This includes learning from data, recognizing patterns, making decisions, solving problems, understanding and generating language, and even perceiving and interpreting visual information.\\n\\n**Types of AI: Narrow, General, and Super**\\n\\nAI systems are broadly categorized into three types:\\n\\n* **Narrow or Weak AI:** This type of AI is designed to excel at a specific task, such as playing chess, recognizing faces, or recommending products.  Examples include virtual assistants like Siri and Alexa, spam filters, and fraud detection systems.\\n* **General or Strong AI:**  This hypothetical type of AI would possess human-level intelligence and the ability to learn and perform any intellectual task that a human can.  General AI remains a distant goal, and its development raises significant philosophical and ethical questions.\\n* **Super AI:**  This highly speculative concept refers to AI that surpasses human intelligence in all aspects.  Super AI\\'s potential benefits and risks are widely debated, with some experts warning of potential existential threats.\\n\\n**Key Technologies Driving AI**\\n\\nSeveral key technologies are powering the advancements in AI:\\n\\n* **Machine Learning (ML):**  ML enables computers to learn from data without explicit programming.  There are three main types of ML: supervised learning (training on labeled data), unsupervised learning (finding patterns in unlabeled data), and reinforcement learning (learning through trial and error).\\n\\n* **Deep Learning (DL):** A subset of ML that uses artificial neural networks with multiple layers to analyze vast amounts of data. DL has achieved remarkable success in areas like image recognition, natural language processing, and speech synthesis.\\n\\n* **Natural Language Processing (NLP):**  NLP focuses on enabling computers to understand, interpret, and generate human language.  NLP powers chatbots, virtual assistants, machine translation, and text summarization tools.\\n\\n* **Computer Vision:**  This field enables computers to \"see\" and interpret images and videos.  Computer vision applications include object detection, facial recognition, medical imaging analysis, and autonomous driving.\\n\\n**Transforming Industries: Applications of AI**\\n\\nAI is already transforming numerous industries:\\n\\n* **Healthcare:** AI is being used for disease diagnosis, drug discovery, personalized medicine, and medical imaging analysis.\\n\\n* **Finance:**  AI powers fraud detection systems, risk assessment models, algorithmic trading, and customer service chatbots.\\n\\n* **Transportation:** Self-driving cars, traffic optimization systems, and predictive maintenance for vehicles are all leveraging AI.\\n\\n* **Manufacturing:**  AI is used for predictive maintenance, quality control, and optimizing production processes.\\n\\n* **Retail:** AI powers personalized product recommendations, inventory management, and chatbot customer service.\\n\\n**Ethical Considerations: Navigating the Challenges**\\n\\nWhile AI offers tremendous potential, it also raises ethical concerns:\\n\\n* **Bias and Fairness:** AI systems can perpetuate and amplify existing societal biases if trained on biased data.\\n\\n* **Job Displacement:**  AI-powered automation may lead to job losses in certain sectors, requiring reskilling and workforce adaptation.\\n\\n* **Privacy and Security:**  AI\\'s ability to process vast amounts of data raises concerns about privacy violations and potential misuse of personal information.\\n\\n* **Accountability and Transparency:**  It\\'s crucial to ensure that AI systems are transparent and accountable for their decisions, particularly in high-stakes situations.\\n\\n**The Future of AI: Shaping Our World**\\n\\nAI is poised to continue its rapid evolution, shaping every aspect of our lives.  Addressing the ethical challenges, fostering responsible development, and ensuring equitable access to AI\\'s benefits will be crucial for harnessing its transformative potential for the betterment of humanity.', pydantic=None, json_dict=None, agent='Writer', output_format=<OutputFormat.RAW: 'raw'>)], token_usage=UsageMetrics(total_tokens=2337, prompt_tokens=927, cached_prompt_tokens=0, completion_tokens=1410, successful_requests=2))"
      ]
     },
     "execution_count": 10,
     "metadata": {},
     "output_type": "execute_result"
    }
   ],
   "source": [
    "# Build and Test Crews\n",
    "\n",
    "# Create a crew with the defined agents and tasks\n",
    "content_crew = Crew(\n",
    "    agents=[researcher, writer],\n",
    "    tasks=[research_task, writing_task],\n",
    "    verbose=True,\n",
    ")\n",
    "\n",
    "# Define a topic for the crew to work on\n",
    "topic = \"Artificial Intelligence\"\n",
    "\n",
    "# Kick off the crew's work\n",
    "result = content_crew.kickoff({\n",
    "    'topic': topic,\n",
    "})\n",
    "\n",
    "# Display the result of the crew's work\n",
    "result"
   ]
  }
 ],
 "metadata": {
  "kernelspec": {
   "display_name": ".venv",
   "language": "python",
   "name": "python3"
  },
  "language_info": {
   "codemirror_mode": {
    "name": "ipython",
    "version": 3
   },
   "file_extension": ".py",
   "mimetype": "text/x-python",
   "name": "python",
   "nbconvert_exporter": "python",
   "pygments_lexer": "ipython3",
   "version": "3.12.8"
  }
 },
 "nbformat": 4,
 "nbformat_minor": 2
}
